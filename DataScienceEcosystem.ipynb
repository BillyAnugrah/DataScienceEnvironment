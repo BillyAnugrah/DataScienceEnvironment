{
 "cells": [
  {
   "cell_type": "markdown",
   "id": "b62f5b4c-26fc-4ebe-b8fd-9d5321c55212",
   "metadata": {},
   "source": [
    "# Data Science Tools and Ecosystem"
   ]
  },
  {
   "cell_type": "markdown",
   "id": "57aad030-7265-4841-9aa9-7ed964de938c",
   "metadata": {},
   "source": [
    "In this notebook, Data Science Tools and Ecosystem are summarized."
   ]
  },
  {
   "cell_type": "markdown",
   "id": "7b577461-9011-460e-bf28-a794f66cfb39",
   "metadata": {},
   "source": [
    "Some of the popular languages that Data Scientists use are:\n",
    "1. Python\n",
    "2. R\n",
    "3. SQL"
   ]
  },
  {
   "cell_type": "markdown",
   "id": "c699c22b-1964-4e8a-b884-26587600c8ee",
   "metadata": {},
   "source": [
    "Some of the commonly used libraries used by Data Scientists include:\n",
    "1. Numpy\n",
    "2. Pandas\n",
    "3. Matplotlib"
   ]
  },
  {
   "cell_type": "markdown",
   "id": "08acf241-e22c-479f-850f-1803f76a1694",
   "metadata": {},
   "source": [
    "| Data Science Tools   |\n",
    "|----------------------|\n",
    "| Jupyter Notebook     |\n",
    "| RStudio              |\n",
    "| Visual Studio Code   |\n"
   ]
  },
  {
   "cell_type": "markdown",
   "id": "ef016606-d078-4b59-b8b8-2d0ee7d1eb1a",
   "metadata": {},
   "source": [
    "### Below are a few examples of evaluating arithmetic expressions in Python"
   ]
  },
  {
   "cell_type": "code",
   "execution_count": 1,
   "id": "3102ec33-5778-493b-9b4a-27db75b7d2d7",
   "metadata": {},
   "outputs": [
    {
     "data": {
      "text/plain": [
       "17"
      ]
     },
     "execution_count": 1,
     "metadata": {},
     "output_type": "execute_result"
    }
   ],
   "source": [
    "# This a simple arithmetic expression to mutiply then add integers\n",
    "(3*4)+5"
   ]
  },
  {
   "cell_type": "code",
   "execution_count": 2,
   "id": "ee3df5a2-c917-435f-bd0a-12f656129380",
   "metadata": {},
   "outputs": [
    {
     "name": "stdout",
     "output_type": "stream",
     "text": [
      "3\n"
     ]
    }
   ],
   "source": [
    "# This will convert 200 minutes to hours by diving by 60\n",
    "minutes = 200\n",
    "hours = minutes // 60\n",
    "print(hours)\n"
   ]
  },
  {
   "cell_type": "markdown",
   "id": "1c115d48-6afc-4b12-ae37-bd2d522bcf44",
   "metadata": {},
   "source": [
    "**Objectives:**\n",
    "- Create a list of  the popular languages that Data Scientists use \n",
    "- Create a list of the commonly used libraries used by Data Scientists\n",
    "- Create a simple arithmetic expression to mutiply then add integers"
   ]
  },
  {
   "cell_type": "markdown",
   "id": "763399d8-578a-4412-b6a5-b0ee7f4e7b15",
   "metadata": {},
   "source": [
    "## Author\n",
    "Billy Anugrah"
   ]
  },
  {
   "cell_type": "code",
   "execution_count": null,
   "id": "45a53170-b75a-4e44-a3bb-1b457b5fd36d",
   "metadata": {},
   "outputs": [],
   "source": []
  }
 ],
 "metadata": {
  "kernelspec": {
   "display_name": "Python 3 (ipykernel)",
   "language": "python",
   "name": "python3"
  },
  "language_info": {
   "codemirror_mode": {
    "name": "ipython",
    "version": 3
   },
   "file_extension": ".py",
   "mimetype": "text/x-python",
   "name": "python",
   "nbconvert_exporter": "python",
   "pygments_lexer": "ipython3",
   "version": "3.10.9"
  }
 },
 "nbformat": 4,
 "nbformat_minor": 5
}
